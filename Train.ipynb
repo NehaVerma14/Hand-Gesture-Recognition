{
 "cells": [
  {
   "cell_type": "code",
   "execution_count": 1,
   "id": "7bf732ec",
   "metadata": {},
   "outputs": [],
   "source": [
    "from lib.data_loader import DataLoader\n",
    "from lib.resnet_model import Resnet3DBuilder\n",
    "import lib.image as img\n",
    "from lib.utils import mkdirs\n",
    "import os\n",
    "import multiprocessing\n"
   ]
  },
  {
   "cell_type": "code",
   "execution_count": 2,
   "id": "80db4ec7",
   "metadata": {},
   "outputs": [],
   "source": [
    "from keras.optimizers import SGD"
   ]
  },
  {
   "cell_type": "code",
   "execution_count": 3,
   "id": "ece293b1",
   "metadata": {},
   "outputs": [],
   "source": [
    "from math import ceil"
   ]
  },
  {
   "cell_type": "code",
   "execution_count": 4,
   "id": "7e495f88",
   "metadata": {},
   "outputs": [],
   "source": [
    "from lib.HistoryGraph import HistoryGraph\n"
   ]
  },
  {
   "cell_type": "code",
   "execution_count": 5,
   "id": "3df800af",
   "metadata": {},
   "outputs": [],
   "source": [
    "from keras.callbacks import ModelCheckpoint"
   ]
  },
  {
   "cell_type": "code",
   "execution_count": 6,
   "id": "585155b7",
   "metadata": {},
   "outputs": [],
   "source": [
    "target_size=(64,96)\n",
    "nb_frames=16\n",
    "skip=1\n",
    "batch_size=64\n",
    "nb_classes=27\n",
    "input_shape=(nb_frames,) + target_size+(3,)"
   ]
  },
  {
   "cell_type": "code",
   "execution_count": 7,
   "id": "60a783ed",
   "metadata": {},
   "outputs": [],
   "source": [
    "workers=8\n",
    "use_multiprocessing = False\n",
    "max_queue_size=20"
   ]
  },
  {
   "cell_type": "code",
   "execution_count": 8,
   "id": "396d4a73",
   "metadata": {},
   "outputs": [],
   "source": [
    "data_root=r\"H:\\HandGestureProject\\dataset\"\n",
    "csv_labels=r\"H:\\HandGestureProject\\dataset\\jester-v1-labels.csv\"\n",
    "csv_test=r\"H:\\HandGestureProject\\dataset\\jester-v1-test.csv\"\n",
    "csv_train=r\"H:\\HandGestureProject\\dataset\\jester-v1-train.csv\"\n",
    "csv_val=r\"H:\\HandGestureProject\\dataset\\jester-v1-validation.csv\"\n",
    "data_vid=r\"H:\\HandGestureProject\\dataset\\jester-v1\"\n",
    "model_name='resnet_3d_model'\n",
    "data_model=r\"H:\\HandGestureProject\\dataset\\model\""
   ]
  },
  {
   "cell_type": "code",
   "execution_count": 9,
   "id": "925c4490",
   "metadata": {},
   "outputs": [],
   "source": [
    "path_model=os.path.join(data_root, data_model, model_name)\n",
    "path_vid=os.path.join(data_root, data_vid)\n",
    "path_labels=os.path.join(data_root, csv_labels)\n",
    "path_train=os.path.join(data_root, csv_train)\n",
    "path_val=os.path.join(data_root, csv_val)\n",
    "path_test=os.path.join(data_root, csv_test)"
   ]
  },
  {
   "cell_type": "code",
   "execution_count": 10,
   "id": "13903441",
   "metadata": {},
   "outputs": [],
   "source": [
    "data=DataLoader(path_vid, path_labels, path_train, path_val)\n",
    "mkdirs(path_model,0o755)\n",
    "mkdirs(os.path.join(path_model,\"graphs\"),0o755)"
   ]
  },
  {
   "cell_type": "code",
   "execution_count": 11,
   "id": "65db3241",
   "metadata": {},
   "outputs": [
    {
     "name": "stdout",
     "output_type": "stream",
     "text": [
      "Found 118562 video folders belonging to 27 classes.\n",
      "Found 14787 video folders belonging to 27 classes.\n"
     ]
    }
   ],
   "source": [
    "gen=img.ImageDataGenerator()\n",
    "gen_train= gen.flow_video_from_dataframe(\n",
    "    data.train_df, \n",
    "    path_vid, \n",
    "    path_classes=path_labels, \n",
    "    x_col='video_id', \n",
    "    y_col='labels', \n",
    "    target_size=target_size, \n",
    "    batch_size=batch_size, \n",
    "    nb_frames=nb_frames, \n",
    "    skip=1, \n",
    "    has_ext=True)\n",
    "\n",
    "gen_val= gen.flow_video_from_dataframe(\n",
    "    data.val_df, \n",
    "    path_vid, \n",
    "    path_classes=path_labels, \n",
    "    x_col='video_id', \n",
    "    y_col='labels', \n",
    "    target_size=target_size, \n",
    "    batch_size=batch_size, \n",
    "    nb_frames=nb_frames, \n",
    "    skip=1, \n",
    "    has_ext=True)"
   ]
  },
  {
   "cell_type": "code",
   "execution_count": 12,
   "id": "57bfb650",
   "metadata": {},
   "outputs": [],
   "source": [
    "resnet_model= Resnet3DBuilder.build_resnet_101(input_shape, nb_classes,drop_rate=0.5)\n",
    "#Stochastic Gradient Descent with momentum\n",
    "optimizer=SGD(learning_rate=0.01, momentum=0.9, decay=0.0001, nesterov=False)\n",
    "resnet_model.compile(optimizer= optimizer, loss=\"categorical_crossentropy\", metrics=[\"accuracy\"])\n",
    "model_file=os.path.join(path_model, \"resnetmodel.hdfs\")"
   ]
  },
  {
   "cell_type": "code",
   "execution_count": 13,
   "id": "e1c4788c",
   "metadata": {},
   "outputs": [],
   "source": [
    "model_checkpointer = ModelCheckpoint(model_file, monitor='val_acc', verbose=1, save_best_only=True, mode='max')"
   ]
  },
  {
   "cell_type": "code",
   "execution_count": 14,
   "id": "5bb492a9",
   "metadata": {},
   "outputs": [
    {
     "ename": "TypeError",
     "evalue": "Callback.__init__() got an unexpected keyword argument 'model_path_name'",
     "output_type": "error",
     "traceback": [
      "\u001b[1;31m---------------------------------------------------------------------------\u001b[0m",
      "\u001b[1;31mTypeError\u001b[0m                                 Traceback (most recent call last)",
      "Cell \u001b[1;32mIn[14], line 1\u001b[0m\n\u001b[1;32m----> 1\u001b[0m history_graph \u001b[38;5;241m=\u001b[39m \u001b[43mHistoryGraph\u001b[49m\u001b[43m(\u001b[49m\u001b[43mmodel_path_name\u001b[49m\u001b[43m \u001b[49m\u001b[38;5;241;43m=\u001b[39;49m\u001b[43m \u001b[49m\u001b[43mos\u001b[49m\u001b[38;5;241;43m.\u001b[39;49m\u001b[43mpath\u001b[49m\u001b[38;5;241;43m.\u001b[39;49m\u001b[43mjoin\u001b[49m\u001b[43m(\u001b[49m\u001b[43mpath_model\u001b[49m\u001b[43m,\u001b[49m\u001b[38;5;124;43m\"\u001b[39;49m\u001b[38;5;124;43mgraphs\u001b[39;49m\u001b[38;5;124;43m\"\u001b[39;49m\u001b[43m)\u001b[49m\u001b[43m)\u001b[49m\n",
      "\u001b[1;31mTypeError\u001b[0m: Callback.__init__() got an unexpected keyword argument 'model_path_name'"
     ]
    }
   ],
   "source": [
    "history_graph = HistoryGraph(model_path_name = os.path.join(path_model,\"graphs\"))"
   ]
  },
  {
   "cell_type": "code",
   "execution_count": null,
   "id": "b6e2146a",
   "metadata": {},
   "outputs": [],
   "source": [
    "nb_sample_train=data.train_df[\"video_id\"].size\n",
    "nb_sample_val=data.val_df[\"video_id\"].size"
   ]
  },
  {
   "cell_type": "code",
   "execution_count": null,
   "id": "dd324ff9",
   "metadata": {},
   "outputs": [],
   "source": [
    "resnet_model.fit_generator(\n",
    "    generator=gen_train,\n",
    "    steps_per_epoch=ceil(nb_sample_train/batch_size),\n",
    "    epochs=100,\n",
    "    validation_data=gen_val,\n",
    "    validation_steps=30,\n",
    "    shuffle=True,\n",
    "    verbose=1,\n",
    "    workers=workers,\n",
    "    max_queue_size=max_queue_size,\n",
    "    use_multiprocessing =use_multiprocessing,\n",
    "    callbacks=[model_checkpointer,history_graph]\n",
    "    #callbacks=[model_checkpointer,history_graph]\n",
    "    \n",
    ")"
   ]
  },
  {
   "cell_type": "code",
   "execution_count": null,
   "id": "e1017e32",
   "metadata": {},
   "outputs": [],
   "source": []
  },
  {
   "cell_type": "code",
   "execution_count": null,
   "id": "99b38472",
   "metadata": {},
   "outputs": [],
   "source": []
  },
  {
   "cell_type": "code",
   "execution_count": null,
   "id": "b19ac41c",
   "metadata": {},
   "outputs": [],
   "source": []
  },
  {
   "cell_type": "code",
   "execution_count": null,
   "id": "ed80a6de",
   "metadata": {},
   "outputs": [],
   "source": []
  }
 ],
 "metadata": {
  "kernelspec": {
   "display_name": "HandGestureRecognitionSystem",
   "language": "python",
   "name": "handgesturerecognitionsystem"
  },
  "language_info": {
   "codemirror_mode": {
    "name": "ipython",
    "version": 3
   },
   "file_extension": ".py",
   "mimetype": "text/x-python",
   "name": "python",
   "nbconvert_exporter": "python",
   "pygments_lexer": "ipython3",
   "version": "3.10.9"
  }
 },
 "nbformat": 4,
 "nbformat_minor": 5
}

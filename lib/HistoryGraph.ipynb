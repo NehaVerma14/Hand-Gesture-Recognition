{
 "cells": [
  {
   "cell_type": "code",
   "execution_count": 3,
   "id": "5e45248d",
   "metadata": {},
   "outputs": [],
   "source": [
    "from keras.callbacks import Callback\n",
    "import matplotlib.pyplot as plt"
   ]
  },
  {
   "cell_type": "code",
   "execution_count": 4,
   "id": "3825e9c1",
   "metadata": {},
   "outputs": [],
   "source": [
    "import json"
   ]
  },
  {
   "cell_type": "code",
   "execution_count": 5,
   "id": "7af58537",
   "metadata": {},
   "outputs": [],
   "source": [
    "class HistoryGraph(Callback):\n",
    "    def __int__(self,model_path_name):\n",
    "        self.model_path_name = model_path_name\n",
    "    \n",
    "    def on_train_begin(self, logs=None):\n",
    "        self.epoch=[]\n",
    "        self.history={}\n",
    "\n",
    "    def on_epoch_end(self, epoch, logs=None):\n",
    "        logs= logs or {}\n",
    "        self.epoch.append(epoch)\n",
    "        for k, v in logs.items():\n",
    "            self.history.setdefault(k,[]).append(v)\n",
    "        self.save_training_history(self.model_path_name, self.history)\n",
    "        \n",
    "    def save_training_history(self, path, history):\n",
    "        for metric in history:\n",
    "            if \"val\" not in metric:\n",
    "                plt.clf()\n",
    "                history[metric]=list(map(float, history[metric]))\n",
    "                plt.plot(history[metric])\n",
    "                plt.plot(history['val_'+ metric])\n",
    "                plt.tile('model'+ metric)\n",
    "                plt.ylabel(metric)\n",
    "                plt.xlabel('epoch')\n",
    "                plt.legend(['train', 'test'], loc='upper left')          \n",
    "                plt.gcf().savefig(path + '/'+ metric +'history'+'.jpg')\n",
    "                \n",
    "        with open(path+'/log'+'.json','w') as fp:\n",
    "            json.dump(history,fp,indent=True)\n",
    "        "
   ]
  },
  {
   "cell_type": "code",
   "execution_count": null,
   "id": "6a3056c5",
   "metadata": {},
   "outputs": [],
   "source": []
  }
 ],
 "metadata": {
  "kernelspec": {
   "display_name": "HandGestureRecognitionSystem",
   "language": "python",
   "name": "handgesturerecognitionsystem"
  },
  "language_info": {
   "codemirror_mode": {
    "name": "ipython",
    "version": 3
   },
   "file_extension": ".py",
   "mimetype": "text/x-python",
   "name": "python",
   "nbconvert_exporter": "python",
   "pygments_lexer": "ipython3",
   "version": "3.10.9"
  }
 },
 "nbformat": 4,
 "nbformat_minor": 5
}

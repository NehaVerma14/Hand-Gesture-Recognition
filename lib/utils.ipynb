{
 "cells": [
  {
   "cell_type": "code",
   "execution_count": 4,
   "id": "70cdda71",
   "metadata": {},
   "outputs": [],
   "source": [
    "import os"
   ]
  },
  {
   "cell_type": "code",
   "execution_count": 3,
   "id": "57eff6ce",
   "metadata": {},
   "outputs": [],
   "source": [
    "def mkdirs(folder,permission):\n",
    "    if not os.path.exists(folder):\n",
    "        try:\n",
    "            original_umask=os.umask(0)\n",
    "            os.makedirs(folder,permission,exist_ok=True)\n",
    "        finally:\n",
    "            os.umask(original_umask)"
   ]
  }
 ],
 "metadata": {
  "kernelspec": {
   "display_name": "HandGestureRecognitionSystem",
   "language": "python",
   "name": "handgesturerecognitionsystem"
  },
  "language_info": {
   "codemirror_mode": {
    "name": "ipython",
    "version": 3
   },
   "file_extension": ".py",
   "mimetype": "text/x-python",
   "name": "python",
   "nbconvert_exporter": "python",
   "pygments_lexer": "ipython3",
   "version": "3.10.9"
  }
 },
 "nbformat": 4,
 "nbformat_minor": 5
}
